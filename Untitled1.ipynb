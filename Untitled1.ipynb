{
 "cells": [
  {
   "cell_type": "code",
   "execution_count": 125,
   "metadata": {
    "collapsed": false
   },
   "outputs": [],
   "source": [
    "# import libraries\n",
    "import urllib2\n"
   ]
  },
  {
   "cell_type": "code",
   "execution_count": 143,
   "metadata": {
    "collapsed": false
   },
   "outputs": [
    {
     "name": "stdout",
     "output_type": "stream",
     "text": [
      "Extracting the wave data for the year 1982\n",
      "Extracting the wave data for the year 1983\n",
      "Extracting the wave data for the year 1984\n",
      "Extracting the wave data for the year 1985\n",
      "Extracting the wave data for the year 1986\n",
      "Extracting the wave data for the year 1987\n",
      "Extracting the wave data for the year 1988\n",
      "Extracting the wave data for the year 1989\n",
      "Extracting the wave data for the year 1990\n",
      "Extracting the wave data for the year 1991\n",
      "Extracting the wave data for the year 1992\n",
      "Extracting the wave data for the year 1993\n",
      "Extracting the wave data for the year 1994\n",
      "Extracting the wave data for the year 1995\n",
      "Extracting the wave data for the year 1996\n",
      "Extracting the wave data for the year 1997\n",
      "Extracting the wave data for the year 1998\n",
      "Extracting the wave data for the year 1999\n",
      "Extracting the wave data for the year 2000\n",
      "Extracting the wave data for the year 2001\n",
      "Extracting the wave data for the year 2002\n",
      "Extracting the wave data for the year 2003\n",
      "Extracting the wave data for the year 2004\n",
      "Extracting the wave data for the year 2005\n",
      "Extracting the wave data for the year 2006\n",
      "Extracting the wave data for the year 2007\n",
      "Extracting the wave data for the year 2008\n",
      "Extracting the wave data for the year 2009\n",
      "Extracting the wave data for the year 2010\n",
      "Extracting the wave data for the year 2011\n",
      "Extracting the wave data for the year 2012\n",
      "Extracting the wave data for the year 2013\n",
      "Extracting the wave data for the year 2014\n",
      "Extracting the wave data for the year 2015\n"
     ]
    }
   ],
   "source": [
    "years = range(1982,2016)\n",
    "\n",
    "for i in years:\n",
    "    \n",
    "    filename = 'wavedate{}'.format(i)\n",
    "    url = 'http://www.ndbc.noaa.gov/view_text_file.php?filename=46022h{}.txt.gz&dir=data/historical/stdmet/'.format(i)\n",
    "    \n",
    "    response = urllib2.urlopen(url)\n",
    "    \n",
    "    with open(filename, 'w') as f: \n",
    "        f.write(response.read())\n",
    "    \n",
    "    print 'Extracting the wave data for the year {}'.format(i)    "
   ]
  },
  {
   "cell_type": "code",
   "execution_count": 153,
   "metadata": {
    "collapsed": false
   },
   "outputs": [],
   "source": [
    "with open('wavedate1982') as f:\n",
    "    lines = f.readlines()\n",
    "\n",
    "import pandas as pd\n",
    "df = pd.DataFrame(lines)"
   ]
  },
  {
   "cell_type": "code",
   "execution_count": 166,
   "metadata": {
    "collapsed": false
   },
   "outputs": [],
   "source": [
    "temp = []\n",
    "for line in lines:\n",
    "    temp.append(line.strip().split())"
   ]
  },
  {
   "cell_type": "code",
   "execution_count": 167,
   "metadata": {
    "collapsed": false
   },
   "outputs": [],
   "source": [
    "df = pd.DataFrame(temp)"
   ]
  },
  {
   "cell_type": "code",
   "execution_count": 168,
   "metadata": {
    "collapsed": false
   },
   "outputs": [
    {
     "data": {
      "text/html": [
       "<div>\n",
       "<table border=\"1\" class=\"dataframe\">\n",
       "  <thead>\n",
       "    <tr style=\"text-align: right;\">\n",
       "      <th></th>\n",
       "      <th>0</th>\n",
       "      <th>1</th>\n",
       "      <th>2</th>\n",
       "      <th>3</th>\n",
       "      <th>4</th>\n",
       "      <th>5</th>\n",
       "      <th>6</th>\n",
       "      <th>7</th>\n",
       "      <th>8</th>\n",
       "      <th>9</th>\n",
       "      <th>10</th>\n",
       "      <th>11</th>\n",
       "      <th>12</th>\n",
       "      <th>13</th>\n",
       "      <th>14</th>\n",
       "      <th>15</th>\n",
       "    </tr>\n",
       "  </thead>\n",
       "  <tbody>\n",
       "    <tr>\n",
       "      <th>0</th>\n",
       "      <td>YY</td>\n",
       "      <td>MM</td>\n",
       "      <td>DD</td>\n",
       "      <td>hh</td>\n",
       "      <td>WD</td>\n",
       "      <td>WSPD</td>\n",
       "      <td>GST</td>\n",
       "      <td>WVHT</td>\n",
       "      <td>DPD</td>\n",
       "      <td>APD</td>\n",
       "      <td>MWD</td>\n",
       "      <td>BAR</td>\n",
       "      <td>ATMP</td>\n",
       "      <td>WTMP</td>\n",
       "      <td>DEWP</td>\n",
       "      <td>VIS</td>\n",
       "    </tr>\n",
       "    <tr>\n",
       "      <th>1</th>\n",
       "      <td>82</td>\n",
       "      <td>01</td>\n",
       "      <td>18</td>\n",
       "      <td>19</td>\n",
       "      <td>281</td>\n",
       "      <td>05.9</td>\n",
       "      <td>08.6</td>\n",
       "      <td>04.80</td>\n",
       "      <td>14.30</td>\n",
       "      <td>08.30</td>\n",
       "      <td>999</td>\n",
       "      <td>1014.0</td>\n",
       "      <td>07.7</td>\n",
       "      <td>10.5</td>\n",
       "      <td>999.0</td>\n",
       "      <td>99.0</td>\n",
       "    </tr>\n",
       "    <tr>\n",
       "      <th>2</th>\n",
       "      <td>82</td>\n",
       "      <td>01</td>\n",
       "      <td>18</td>\n",
       "      <td>20</td>\n",
       "      <td>237</td>\n",
       "      <td>09.0</td>\n",
       "      <td>12.2</td>\n",
       "      <td>05.20</td>\n",
       "      <td>14.30</td>\n",
       "      <td>09.00</td>\n",
       "      <td>999</td>\n",
       "      <td>1013.1</td>\n",
       "      <td>08.4</td>\n",
       "      <td>10.5</td>\n",
       "      <td>999.0</td>\n",
       "      <td>99.0</td>\n",
       "    </tr>\n",
       "    <tr>\n",
       "      <th>3</th>\n",
       "      <td>82</td>\n",
       "      <td>01</td>\n",
       "      <td>18</td>\n",
       "      <td>21</td>\n",
       "      <td>226</td>\n",
       "      <td>04.4</td>\n",
       "      <td>08.6</td>\n",
       "      <td>05.40</td>\n",
       "      <td>14.30</td>\n",
       "      <td>08.60</td>\n",
       "      <td>999</td>\n",
       "      <td>1012.6</td>\n",
       "      <td>06.0</td>\n",
       "      <td>10.5</td>\n",
       "      <td>999.0</td>\n",
       "      <td>99.0</td>\n",
       "    </tr>\n",
       "    <tr>\n",
       "      <th>4</th>\n",
       "      <td>82</td>\n",
       "      <td>01</td>\n",
       "      <td>18</td>\n",
       "      <td>22</td>\n",
       "      <td>230</td>\n",
       "      <td>08.1</td>\n",
       "      <td>10.8</td>\n",
       "      <td>05.20</td>\n",
       "      <td>14.30</td>\n",
       "      <td>08.60</td>\n",
       "      <td>999</td>\n",
       "      <td>1012.2</td>\n",
       "      <td>07.1</td>\n",
       "      <td>10.5</td>\n",
       "      <td>999.0</td>\n",
       "      <td>99.0</td>\n",
       "    </tr>\n",
       "  </tbody>\n",
       "</table>\n",
       "</div>"
      ],
      "text/plain": [
       "   0   1   2   3    4     5     6      7      8      9    10      11    12  \\\n",
       "0  YY  MM  DD  hh   WD  WSPD   GST   WVHT    DPD    APD  MWD     BAR  ATMP   \n",
       "1  82  01  18  19  281  05.9  08.6  04.80  14.30  08.30  999  1014.0  07.7   \n",
       "2  82  01  18  20  237  09.0  12.2  05.20  14.30  09.00  999  1013.1  08.4   \n",
       "3  82  01  18  21  226  04.4  08.6  05.40  14.30  08.60  999  1012.6  06.0   \n",
       "4  82  01  18  22  230  08.1  10.8  05.20  14.30  08.60  999  1012.2  07.1   \n",
       "\n",
       "     13     14    15  \n",
       "0  WTMP   DEWP   VIS  \n",
       "1  10.5  999.0  99.0  \n",
       "2  10.5  999.0  99.0  \n",
       "3  10.5  999.0  99.0  \n",
       "4  10.5  999.0  99.0  "
      ]
     },
     "execution_count": 168,
     "metadata": {},
     "output_type": "execute_result"
    }
   ],
   "source": [
    "df.head()"
   ]
  },
  {
   "cell_type": "code",
   "execution_count": null,
   "metadata": {
    "collapsed": true
   },
   "outputs": [],
   "source": []
  }
 ],
 "metadata": {
  "kernelspec": {
   "display_name": "Python 2",
   "language": "python",
   "name": "python2"
  },
  "language_info": {
   "codemirror_mode": {
    "name": "ipython",
    "version": 2
   },
   "file_extension": ".py",
   "mimetype": "text/x-python",
   "name": "python",
   "nbconvert_exporter": "python",
   "pygments_lexer": "ipython2",
   "version": "2.7.13"
  }
 },
 "nbformat": 4,
 "nbformat_minor": 2
}
